{
 "cells": [
  {
   "cell_type": "markdown",
   "metadata": {},
   "source": [
    "## Desafío Caja los Andes"
   ]
  },
  {
   "cell_type": "markdown",
   "metadata": {},
   "source": [
    "Hecho por: Felipe Araya Villela"
   ]
  },
  {
   "cell_type": "markdown",
   "metadata": {},
   "source": [
    "### Resumen"
   ]
  },
  {
   "cell_type": "markdown",
   "metadata": {},
   "source": [
    "En este notebook se realiza un modelo de clasifiación binaria utilizando regresión logística. En primer lugar, se explora el dataset otorgado por CLA, obteniendo que es un dataset con 2000 datos y 9 columnas, siendo una de estas el target, el cual está desbalanceado. Posteriormente se preprocesan los datos y se corre el modelo, obteniendo un F1-Score de 0.94 para los target igual a 1 y un F1-Score de 0.09 para los target igual a 0. Finalmente, se calcula el área bajo la curva ROC (AUC) para los conjuntos de entrenamiento y prueba, teniendo como resultados 0.90 y 0.71 respectivamente, indicando un posible sobreajuste en los datos."
   ]
  },
  {
   "cell_type": "markdown",
   "metadata": {},
   "source": [
    "### Carga de Librerías"
   ]
  },
  {
   "cell_type": "code",
   "execution_count": 94,
   "metadata": {},
   "outputs": [],
   "source": [
    "import pandas as pd\n",
    "from sklearn.model_selection import train_test_split\n",
    "from sklearn.linear_model import LogisticRegression\n",
    "from sklearn.metrics import classification_report, confusion_matrix\n",
    "from sklearn.metrics import roc_auc_score\n",
    "from sklearn.compose import ColumnTransformer\n",
    "from sklearn.preprocessing import OneHotEncoder\n",
    "from sklearn.pipeline import Pipeline"
   ]
  },
  {
   "cell_type": "markdown",
   "metadata": {},
   "source": [
    "### Carga de Datos"
   ]
  },
  {
   "cell_type": "code",
   "execution_count": 80,
   "metadata": {},
   "outputs": [],
   "source": [
    "data = pd.read_csv('dataset_Caso_1.csv')"
   ]
  },
  {
   "cell_type": "markdown",
   "metadata": {},
   "source": [
    "### EDA"
   ]
  },
  {
   "cell_type": "markdown",
   "metadata": {},
   "source": [
    "**Comentarios Generales EDA:** Se cuenta con una base de datos de 2000 filas y 9 columnas, se puede observar que no cuenta con datos nulos y que dos de sus columnas son categóricas. Además, se pudo observar un gran desbalanceo en el target, encontrando que solo el 1,1% de los datos tienen un target igual a 1 (22 valores en total)."
   ]
  },
  {
   "cell_type": "code",
   "execution_count": 81,
   "metadata": {},
   "outputs": [
    {
     "data": {
      "text/html": [
       "<div>\n",
       "<style scoped>\n",
       "    .dataframe tbody tr th:only-of-type {\n",
       "        vertical-align: middle;\n",
       "    }\n",
       "\n",
       "    .dataframe tbody tr th {\n",
       "        vertical-align: top;\n",
       "    }\n",
       "\n",
       "    .dataframe thead th {\n",
       "        text-align: right;\n",
       "    }\n",
       "</style>\n",
       "<table border=\"1\" class=\"dataframe\">\n",
       "  <thead>\n",
       "    <tr style=\"text-align: right;\">\n",
       "      <th></th>\n",
       "      <th>x1</th>\n",
       "      <th>x2</th>\n",
       "      <th>x3</th>\n",
       "      <th>x4</th>\n",
       "      <th>x5</th>\n",
       "      <th>x6</th>\n",
       "      <th>x7</th>\n",
       "      <th>x8</th>\n",
       "      <th>target</th>\n",
       "    </tr>\n",
       "  </thead>\n",
       "  <tbody>\n",
       "    <tr>\n",
       "      <th>0</th>\n",
       "      <td>50.1341</td>\n",
       "      <td>-326.0000</td>\n",
       "      <td>SAT</td>\n",
       "      <td>MZBER</td>\n",
       "      <td>0</td>\n",
       "      <td>0</td>\n",
       "      <td>6</td>\n",
       "      <td>-6.5</td>\n",
       "      <td>0</td>\n",
       "    </tr>\n",
       "    <tr>\n",
       "      <th>1</th>\n",
       "      <td>50.1341</td>\n",
       "      <td>-326.0000</td>\n",
       "      <td>SAT</td>\n",
       "      <td>MZBER</td>\n",
       "      <td>0</td>\n",
       "      <td>0</td>\n",
       "      <td>6</td>\n",
       "      <td>-4.5</td>\n",
       "      <td>0</td>\n",
       "    </tr>\n",
       "    <tr>\n",
       "      <th>2</th>\n",
       "      <td>124.3276</td>\n",
       "      <td>-275.1935</td>\n",
       "      <td>LCV</td>\n",
       "      <td>MZBER</td>\n",
       "      <td>0</td>\n",
       "      <td>0</td>\n",
       "      <td>3</td>\n",
       "      <td>-2.5</td>\n",
       "      <td>0</td>\n",
       "    </tr>\n",
       "    <tr>\n",
       "      <th>3</th>\n",
       "      <td>50.1341</td>\n",
       "      <td>-326.0000</td>\n",
       "      <td>SAT</td>\n",
       "      <td>MZBER</td>\n",
       "      <td>0</td>\n",
       "      <td>0</td>\n",
       "      <td>3</td>\n",
       "      <td>-4.5</td>\n",
       "      <td>0</td>\n",
       "    </tr>\n",
       "    <tr>\n",
       "      <th>4</th>\n",
       "      <td>85.3905</td>\n",
       "      <td>-298.8632</td>\n",
       "      <td>XJB</td>\n",
       "      <td>MZBER</td>\n",
       "      <td>0</td>\n",
       "      <td>0</td>\n",
       "      <td>5</td>\n",
       "      <td>-4.5</td>\n",
       "      <td>0</td>\n",
       "    </tr>\n",
       "  </tbody>\n",
       "</table>\n",
       "</div>"
      ],
      "text/plain": [
       "         x1        x2   x3     x4  x5  x6  x7   x8  target\n",
       "0   50.1341 -326.0000  SAT  MZBER   0   0   6 -6.5       0\n",
       "1   50.1341 -326.0000  SAT  MZBER   0   0   6 -4.5       0\n",
       "2  124.3276 -275.1935  LCV  MZBER   0   0   3 -2.5       0\n",
       "3   50.1341 -326.0000  SAT  MZBER   0   0   3 -4.5       0\n",
       "4   85.3905 -298.8632  XJB  MZBER   0   0   5 -4.5       0"
      ]
     },
     "execution_count": 81,
     "metadata": {},
     "output_type": "execute_result"
    }
   ],
   "source": [
    "data.head()"
   ]
  },
  {
   "cell_type": "code",
   "execution_count": 82,
   "metadata": {},
   "outputs": [
    {
     "data": {
      "text/plain": [
       "(2000, 9)"
      ]
     },
     "execution_count": 82,
     "metadata": {},
     "output_type": "execute_result"
    }
   ],
   "source": [
    "data.shape"
   ]
  },
  {
   "cell_type": "code",
   "execution_count": 83,
   "metadata": {},
   "outputs": [
    {
     "name": "stdout",
     "output_type": "stream",
     "text": [
      "<class 'pandas.core.frame.DataFrame'>\n",
      "RangeIndex: 2000 entries, 0 to 1999\n",
      "Data columns (total 9 columns):\n",
      " #   Column  Non-Null Count  Dtype  \n",
      "---  ------  --------------  -----  \n",
      " 0   x1      2000 non-null   float64\n",
      " 1   x2      2000 non-null   float64\n",
      " 2   x3      2000 non-null   object \n",
      " 3   x4      2000 non-null   object \n",
      " 4   x5      2000 non-null   int64  \n",
      " 5   x6      2000 non-null   int64  \n",
      " 6   x7      2000 non-null   int64  \n",
      " 7   x8      2000 non-null   float64\n",
      " 8   target  2000 non-null   int64  \n",
      "dtypes: float64(3), int64(4), object(2)\n",
      "memory usage: 140.8+ KB\n"
     ]
    }
   ],
   "source": [
    "data.info()"
   ]
  },
  {
   "cell_type": "code",
   "execution_count": 84,
   "metadata": {},
   "outputs": [
    {
     "data": {
      "text/html": [
       "<div>\n",
       "<style scoped>\n",
       "    .dataframe tbody tr th:only-of-type {\n",
       "        vertical-align: middle;\n",
       "    }\n",
       "\n",
       "    .dataframe tbody tr th {\n",
       "        vertical-align: top;\n",
       "    }\n",
       "\n",
       "    .dataframe thead th {\n",
       "        text-align: right;\n",
       "    }\n",
       "</style>\n",
       "<table border=\"1\" class=\"dataframe\">\n",
       "  <thead>\n",
       "    <tr style=\"text-align: right;\">\n",
       "      <th></th>\n",
       "      <th>x1</th>\n",
       "      <th>x2</th>\n",
       "      <th>x5</th>\n",
       "      <th>x6</th>\n",
       "      <th>x7</th>\n",
       "      <th>x8</th>\n",
       "      <th>target</th>\n",
       "    </tr>\n",
       "  </thead>\n",
       "  <tbody>\n",
       "    <tr>\n",
       "      <th>count</th>\n",
       "      <td>2000.000000</td>\n",
       "      <td>2000.000000</td>\n",
       "      <td>2000.00000</td>\n",
       "      <td>2000.000000</td>\n",
       "      <td>2000.000000</td>\n",
       "      <td>2000.000000</td>\n",
       "      <td>2000.000000</td>\n",
       "    </tr>\n",
       "    <tr>\n",
       "      <th>mean</th>\n",
       "      <td>101.074885</td>\n",
       "      <td>-298.282145</td>\n",
       "      <td>0.01250</td>\n",
       "      <td>0.027000</td>\n",
       "      <td>3.440500</td>\n",
       "      <td>-5.343500</td>\n",
       "      <td>0.011000</td>\n",
       "    </tr>\n",
       "    <tr>\n",
       "      <th>std</th>\n",
       "      <td>22.670474</td>\n",
       "      <td>16.596490</td>\n",
       "      <td>0.11113</td>\n",
       "      <td>0.162124</td>\n",
       "      <td>0.972591</td>\n",
       "      <td>1.570108</td>\n",
       "      <td>0.104329</td>\n",
       "    </tr>\n",
       "    <tr>\n",
       "      <th>min</th>\n",
       "      <td>50.134100</td>\n",
       "      <td>-326.000000</td>\n",
       "      <td>0.00000</td>\n",
       "      <td>0.000000</td>\n",
       "      <td>3.000000</td>\n",
       "      <td>-7.500000</td>\n",
       "      <td>0.000000</td>\n",
       "    </tr>\n",
       "    <tr>\n",
       "      <th>25%</th>\n",
       "      <td>89.501675</td>\n",
       "      <td>-308.930400</td>\n",
       "      <td>0.00000</td>\n",
       "      <td>0.000000</td>\n",
       "      <td>3.000000</td>\n",
       "      <td>-6.500000</td>\n",
       "      <td>0.000000</td>\n",
       "    </tr>\n",
       "    <tr>\n",
       "      <th>50%</th>\n",
       "      <td>105.236100</td>\n",
       "      <td>-297.825600</td>\n",
       "      <td>0.00000</td>\n",
       "      <td>0.000000</td>\n",
       "      <td>3.000000</td>\n",
       "      <td>-5.500000</td>\n",
       "      <td>0.000000</td>\n",
       "    </tr>\n",
       "    <tr>\n",
       "      <th>75%</th>\n",
       "      <td>116.023175</td>\n",
       "      <td>-288.169025</td>\n",
       "      <td>0.00000</td>\n",
       "      <td>0.000000</td>\n",
       "      <td>3.000000</td>\n",
       "      <td>-4.500000</td>\n",
       "      <td>0.000000</td>\n",
       "    </tr>\n",
       "    <tr>\n",
       "      <th>max</th>\n",
       "      <td>150.134100</td>\n",
       "      <td>-226.000000</td>\n",
       "      <td>1.00000</td>\n",
       "      <td>1.000000</td>\n",
       "      <td>8.000000</td>\n",
       "      <td>-1.500000</td>\n",
       "      <td>1.000000</td>\n",
       "    </tr>\n",
       "  </tbody>\n",
       "</table>\n",
       "</div>"
      ],
      "text/plain": [
       "                x1           x2          x5           x6           x7  \\\n",
       "count  2000.000000  2000.000000  2000.00000  2000.000000  2000.000000   \n",
       "mean    101.074885  -298.282145     0.01250     0.027000     3.440500   \n",
       "std      22.670474    16.596490     0.11113     0.162124     0.972591   \n",
       "min      50.134100  -326.000000     0.00000     0.000000     3.000000   \n",
       "25%      89.501675  -308.930400     0.00000     0.000000     3.000000   \n",
       "50%     105.236100  -297.825600     0.00000     0.000000     3.000000   \n",
       "75%     116.023175  -288.169025     0.00000     0.000000     3.000000   \n",
       "max     150.134100  -226.000000     1.00000     1.000000     8.000000   \n",
       "\n",
       "                x8       target  \n",
       "count  2000.000000  2000.000000  \n",
       "mean     -5.343500     0.011000  \n",
       "std       1.570108     0.104329  \n",
       "min      -7.500000     0.000000  \n",
       "25%      -6.500000     0.000000  \n",
       "50%      -5.500000     0.000000  \n",
       "75%      -4.500000     0.000000  \n",
       "max      -1.500000     1.000000  "
      ]
     },
     "execution_count": 84,
     "metadata": {},
     "output_type": "execute_result"
    }
   ],
   "source": [
    "data.describe()"
   ]
  },
  {
   "cell_type": "markdown",
   "metadata": {},
   "source": [
    "Se observa que las variables numéricas están en escalas diferentes."
   ]
  },
  {
   "cell_type": "code",
   "execution_count": 85,
   "metadata": {},
   "outputs": [
    {
     "data": {
      "text/plain": [
       "x1        0\n",
       "x2        0\n",
       "x3        0\n",
       "x4        0\n",
       "x5        0\n",
       "x6        0\n",
       "x7        0\n",
       "x8        0\n",
       "target    0\n",
       "dtype: int64"
      ]
     },
     "execution_count": 85,
     "metadata": {},
     "output_type": "execute_result"
    }
   ],
   "source": [
    "data.isna().sum()"
   ]
  },
  {
   "cell_type": "markdown",
   "metadata": {},
   "source": [
    "No se encuentran NA en el dataframe."
   ]
  },
  {
   "cell_type": "code",
   "execution_count": 86,
   "metadata": {},
   "outputs": [
    {
     "data": {
      "text/plain": [
       "x1        1183\n",
       "x2        1149\n",
       "x3           4\n",
       "x4           4\n",
       "x5           2\n",
       "x6           2\n",
       "x7           5\n",
       "x8           7\n",
       "target       2\n",
       "dtype: int64"
      ]
     },
     "execution_count": 86,
     "metadata": {},
     "output_type": "execute_result"
    }
   ],
   "source": [
    "data.nunique()"
   ]
  },
  {
   "cell_type": "code",
   "execution_count": 87,
   "metadata": {},
   "outputs": [
    {
     "data": {
      "text/plain": [
       "target\n",
       "0    1978\n",
       "1      22\n",
       "Name: count, dtype: int64"
      ]
     },
     "execution_count": 87,
     "metadata": {},
     "output_type": "execute_result"
    }
   ],
   "source": [
    "data['target'].value_counts()"
   ]
  },
  {
   "cell_type": "code",
   "execution_count": 95,
   "metadata": {},
   "outputs": [
    {
     "name": "stdout",
     "output_type": "stream",
     "text": [
      "Porcentaje de valores del target igual a 1:  1.1 %\n"
     ]
    }
   ],
   "source": [
    "print('Porcentaje de valores del target igual a 1: ', round(len(data[data['target'] == 1])/len(data) * 100,2), '%')"
   ]
  },
  {
   "cell_type": "code",
   "execution_count": 89,
   "metadata": {},
   "outputs": [
    {
     "data": {
      "text/plain": [
       "x3\n",
       "LCV    926\n",
       "SAT    715\n",
       "XJB    280\n",
       "QKP     79\n",
       "Name: count, dtype: int64"
      ]
     },
     "execution_count": 89,
     "metadata": {},
     "output_type": "execute_result"
    }
   ],
   "source": [
    "data['x3'].value_counts()"
   ]
  },
  {
   "cell_type": "code",
   "execution_count": 90,
   "metadata": {},
   "outputs": [
    {
     "data": {
      "text/plain": [
       "x4\n",
       "MZBER    1918\n",
       "YEQA       41\n",
       "PQKE       36\n",
       "ZUQF        5\n",
       "Name: count, dtype: int64"
      ]
     },
     "execution_count": 90,
     "metadata": {},
     "output_type": "execute_result"
    }
   ],
   "source": [
    "data['x4'].value_counts()"
   ]
  },
  {
   "cell_type": "markdown",
   "metadata": {},
   "source": [
    "### Modelo utilizado"
   ]
  },
  {
   "cell_type": "markdown",
   "metadata": {},
   "source": [
    "Debido a la urgencia y que solo se puede ocupar un modelo, se decide ocupar una regresión logística debido a que funciona bien con poca cantidad de datos y es rápida de utilizar. La regresión logística se utiliza con un solver 'newton-cg' debido a la poca cantidad de datos. Además, se utiliza OneHotEncoder para las variables categóricas y se le añade el balanceo de clases a la hora de ejecutar el algoritmo.\n",
    "\n",
    "**Principales Resultados:** Utilizando regresión logística se obtiene una predicción con un F1-Score de 0.94 para los target 0, indicando que es un buen predictor para estos target, pero solo un F1-Score de 0.09 para los que son igual a 1, siendo un predictor poco preciso para estos target. Además, el modelo tiene valores de AUC de 0.90 en entrenamiento y de 0.71 en prueba, lo que indica que el modelo está capturando bien las diferentes clases en el set de entrenamiento, pero no lo hace de la misma forma al pasarle datos nuevos, esto puede indicar cierto sobreajuste. El modelo podría capturar mejor la diferencia de clases si se pudiera contar con una mayor cantidad de datos."
   ]
  },
  {
   "cell_type": "markdown",
   "metadata": {},
   "source": [
    "#### Preprocesamiento"
   ]
  },
  {
   "cell_type": "code",
   "execution_count": 91,
   "metadata": {},
   "outputs": [],
   "source": [
    "# Se seleccionan las variables categóricas y numéricas\n",
    "col_categoricas = ['x3', 'x4']\n",
    "col_numericas = [col for col in data.columns if col not in col_categoricas]\n",
    "col_numericas.remove('target')\n",
    "\n",
    "# Se crea el preprocessor con OneHotEncoder para las variables categóricas\n",
    "preprocessor = ColumnTransformer(\n",
    "    transformers=[\n",
    "        ('num', 'passthrough', col_numericas),\n",
    "        ('cat', OneHotEncoder(), col_categoricas) \n",
    "    ])\n",
    "\n",
    "# Se crea el pipeline\n",
    "pipeline = Pipeline(steps=[\n",
    "    ('preprocessor', preprocessor),                    \n",
    "    ('classifier', LogisticRegression(class_weight='balanced', solver='newton-cg')) \n",
    "])"
   ]
  },
  {
   "cell_type": "markdown",
   "metadata": {},
   "source": [
    "#### Entrenamiento y Prueba"
   ]
  },
  {
   "cell_type": "code",
   "execution_count": 92,
   "metadata": {},
   "outputs": [
    {
     "name": "stdout",
     "output_type": "stream",
     "text": [
      "[[533  60]\n",
      " [  4   3]]\n",
      "              precision    recall  f1-score   support\n",
      "\n",
      "           0       0.99      0.90      0.94       593\n",
      "           1       0.05      0.43      0.09         7\n",
      "\n",
      "    accuracy                           0.89       600\n",
      "   macro avg       0.52      0.66      0.51       600\n",
      "weighted avg       0.98      0.89      0.93       600\n",
      "\n"
     ]
    }
   ],
   "source": [
    "# Dividir el conjunto de datos en entrenamiento y prueba\n",
    "X = data.drop('target', axis=1)\n",
    "y = data['target']\n",
    "\n",
    "X_train, X_test, y_train, y_test = train_test_split(X, y, test_size=0.3, random_state=42, stratify=y)\n",
    "\n",
    "# Entrenar el pipeline\n",
    "pipeline.fit(X_train, y_train)\n",
    "\n",
    "# Predecir sobre el conjunto de prueba\n",
    "y_pred = pipeline.predict(X_test)\n",
    "\n",
    "# Evaluar el modelo\n",
    "print(confusion_matrix(y_test, y_pred))\n",
    "print(classification_report(y_test, y_pred))"
   ]
  },
  {
   "cell_type": "code",
   "execution_count": 93,
   "metadata": {},
   "outputs": [
    {
     "name": "stdout",
     "output_type": "stream",
     "text": [
      "AUC en entrenamiento: 0.9069\n",
      "AUC en prueba: 0.7138\n"
     ]
    }
   ],
   "source": [
    "# Predecir las probabilidades en el conjunto de entrenamiento y prueba\n",
    "y_train_pred_proba = pipeline.predict_proba(X_train)[:, 1]\n",
    "y_test_pred_proba = pipeline.predict_proba(X_test)[:, 1]\n",
    "\n",
    "# Calcular el AUC para el conjunto de entrenamiento\n",
    "auc_train = roc_auc_score(y_train, y_train_pred_proba)\n",
    "print(f\"AUC en entrenamiento: {auc_train:.4f}\")\n",
    "\n",
    "# Calcular el AUC para el conjunto de prueba\n",
    "auc_test = roc_auc_score(y_test, y_test_pred_proba)\n",
    "print(f\"AUC en prueba: {auc_test:.4f}\")"
   ]
  }
 ],
 "metadata": {
  "kernelspec": {
   "display_name": "Python 3",
   "language": "python",
   "name": "python3"
  },
  "language_info": {
   "codemirror_mode": {
    "name": "ipython",
    "version": 3
   },
   "file_extension": ".py",
   "mimetype": "text/x-python",
   "name": "python",
   "nbconvert_exporter": "python",
   "pygments_lexer": "ipython3",
   "version": "3.12.3"
  }
 },
 "nbformat": 4,
 "nbformat_minor": 2
}
